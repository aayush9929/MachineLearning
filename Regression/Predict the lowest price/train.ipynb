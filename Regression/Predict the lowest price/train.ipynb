{
 "cells": [
  {
   "cell_type": "code",
   "execution_count": 34,
   "metadata": {},
   "outputs": [],
   "source": [
    "import pandas as pd\n",
    "import numpy as np"
   ]
  },
  {
   "cell_type": "code",
   "execution_count": 35,
   "metadata": {},
   "outputs": [],
   "source": [
    "df = pd.read_csv(\"dataset/train.csv\")"
   ]
  },
  {
   "cell_type": "code",
   "execution_count": 36,
   "metadata": {},
   "outputs": [
    {
     "data": {
      "text/html": [
       "<div>\n",
       "<style scoped>\n",
       "    .dataframe tbody tr th:only-of-type {\n",
       "        vertical-align: middle;\n",
       "    }\n",
       "\n",
       "    .dataframe tbody tr th {\n",
       "        vertical-align: top;\n",
       "    }\n",
       "\n",
       "    .dataframe thead th {\n",
       "        text-align: right;\n",
       "    }\n",
       "</style>\n",
       "<table border=\"1\" class=\"dataframe\">\n",
       "  <thead>\n",
       "    <tr style=\"text-align: right;\">\n",
       "      <th></th>\n",
       "      <th>Item_Id</th>\n",
       "      <th>Date</th>\n",
       "      <th>State_of_Country</th>\n",
       "      <th>Market_Category</th>\n",
       "      <th>Product_Category</th>\n",
       "      <th>Grade</th>\n",
       "      <th>Demand</th>\n",
       "      <th>Low_Cap_Price</th>\n",
       "      <th>High_Cap_Price</th>\n",
       "    </tr>\n",
       "  </thead>\n",
       "  <tbody>\n",
       "    <tr>\n",
       "      <th>0</th>\n",
       "      <td>IT_1</td>\n",
       "      <td>2007-07-05</td>\n",
       "      <td>0</td>\n",
       "      <td>0</td>\n",
       "      <td>0</td>\n",
       "      <td>0</td>\n",
       "      <td>0.5</td>\n",
       "      <td>2785</td>\n",
       "      <td>4240</td>\n",
       "    </tr>\n",
       "    <tr>\n",
       "      <th>1</th>\n",
       "      <td>IT_2</td>\n",
       "      <td>2007-07-05</td>\n",
       "      <td>0</td>\n",
       "      <td>1</td>\n",
       "      <td>0</td>\n",
       "      <td>0</td>\n",
       "      <td>0.7</td>\n",
       "      <td>3574</td>\n",
       "      <td>4756</td>\n",
       "    </tr>\n",
       "    <tr>\n",
       "      <th>2</th>\n",
       "      <td>IT_3</td>\n",
       "      <td>2007-07-05</td>\n",
       "      <td>0</td>\n",
       "      <td>103</td>\n",
       "      <td>0</td>\n",
       "      <td>1</td>\n",
       "      <td>1.6</td>\n",
       "      <td>5978</td>\n",
       "      <td>9669</td>\n",
       "    </tr>\n",
       "    <tr>\n",
       "      <th>3</th>\n",
       "      <td>IT_4</td>\n",
       "      <td>2007-07-05</td>\n",
       "      <td>0</td>\n",
       "      <td>103</td>\n",
       "      <td>0</td>\n",
       "      <td>0</td>\n",
       "      <td>0.0</td>\n",
       "      <td>5681</td>\n",
       "      <td>8313</td>\n",
       "    </tr>\n",
       "    <tr>\n",
       "      <th>4</th>\n",
       "      <td>IT_5</td>\n",
       "      <td>2007-07-05</td>\n",
       "      <td>0</td>\n",
       "      <td>103</td>\n",
       "      <td>0</td>\n",
       "      <td>2</td>\n",
       "      <td>0.0</td>\n",
       "      <td>4924</td>\n",
       "      <td>7257</td>\n",
       "    </tr>\n",
       "  </tbody>\n",
       "</table>\n",
       "</div>"
      ],
      "text/plain": [
       "  Item_Id        Date  State_of_Country  Market_Category  Product_Category  \\\n",
       "0    IT_1  2007-07-05                 0                0                 0   \n",
       "1    IT_2  2007-07-05                 0                1                 0   \n",
       "2    IT_3  2007-07-05                 0              103                 0   \n",
       "3    IT_4  2007-07-05                 0              103                 0   \n",
       "4    IT_5  2007-07-05                 0              103                 0   \n",
       "\n",
       "   Grade  Demand  Low_Cap_Price  High_Cap_Price  \n",
       "0      0     0.5           2785            4240  \n",
       "1      0     0.7           3574            4756  \n",
       "2      1     1.6           5978            9669  \n",
       "3      0     0.0           5681            8313  \n",
       "4      2     0.0           4924            7257  "
      ]
     },
     "execution_count": 36,
     "metadata": {},
     "output_type": "execute_result"
    }
   ],
   "source": [
    "df.head()"
   ]
  },
  {
   "cell_type": "code",
   "execution_count": 37,
   "metadata": {},
   "outputs": [],
   "source": [
    "df['sell_date'] = pd.to_datetime(df['Date'])"
   ]
  },
  {
   "cell_type": "code",
   "execution_count": 38,
   "metadata": {},
   "outputs": [
    {
     "name": "stdout",
     "output_type": "stream",
     "text": [
      "<class 'pandas.core.frame.DataFrame'>\n",
      "RangeIndex: 9798 entries, 0 to 9797\n",
      "Data columns (total 10 columns):\n",
      " #   Column            Non-Null Count  Dtype         \n",
      "---  ------            --------------  -----         \n",
      " 0   Item_Id           9798 non-null   object        \n",
      " 1   Date              9798 non-null   object        \n",
      " 2   State_of_Country  9798 non-null   int64         \n",
      " 3   Market_Category   9798 non-null   int64         \n",
      " 4   Product_Category  9798 non-null   int64         \n",
      " 5   Grade             9798 non-null   int64         \n",
      " 6   Demand            9798 non-null   float64       \n",
      " 7   Low_Cap_Price     9798 non-null   int64         \n",
      " 8   High_Cap_Price    9798 non-null   int64         \n",
      " 9   sell_date         9798 non-null   datetime64[ns]\n",
      "dtypes: datetime64[ns](1), float64(1), int64(6), object(2)\n",
      "memory usage: 765.6+ KB\n"
     ]
    }
   ],
   "source": [
    "df.info()"
   ]
  },
  {
   "cell_type": "code",
   "execution_count": 39,
   "metadata": {},
   "outputs": [],
   "source": [
    "df['month'] = df['sell_date'].dt.month\n",
    "df['year'] = df['sell_date'].dt.year"
   ]
  },
  {
   "cell_type": "code",
   "execution_count": 40,
   "metadata": {},
   "outputs": [
    {
     "name": "stdout",
     "output_type": "stream",
     "text": [
      "<class 'pandas.core.frame.DataFrame'>\n",
      "RangeIndex: 9798 entries, 0 to 9797\n",
      "Data columns (total 12 columns):\n",
      " #   Column            Non-Null Count  Dtype         \n",
      "---  ------            --------------  -----         \n",
      " 0   Item_Id           9798 non-null   object        \n",
      " 1   Date              9798 non-null   object        \n",
      " 2   State_of_Country  9798 non-null   int64         \n",
      " 3   Market_Category   9798 non-null   int64         \n",
      " 4   Product_Category  9798 non-null   int64         \n",
      " 5   Grade             9798 non-null   int64         \n",
      " 6   Demand            9798 non-null   float64       \n",
      " 7   Low_Cap_Price     9798 non-null   int64         \n",
      " 8   High_Cap_Price    9798 non-null   int64         \n",
      " 9   sell_date         9798 non-null   datetime64[ns]\n",
      " 10  month             9798 non-null   int64         \n",
      " 11  year              9798 non-null   int64         \n",
      "dtypes: datetime64[ns](1), float64(1), int64(8), object(2)\n",
      "memory usage: 918.7+ KB\n"
     ]
    }
   ],
   "source": [
    "df.info()"
   ]
  },
  {
   "cell_type": "code",
   "execution_count": 41,
   "metadata": {},
   "outputs": [],
   "source": [
    "df.drop(columns=['Item_Id','Date','sell_date'],inplace=True)"
   ]
  },
  {
   "cell_type": "code",
   "execution_count": 42,
   "metadata": {},
   "outputs": [
    {
     "data": {
      "text/html": [
       "<div>\n",
       "<style scoped>\n",
       "    .dataframe tbody tr th:only-of-type {\n",
       "        vertical-align: middle;\n",
       "    }\n",
       "\n",
       "    .dataframe tbody tr th {\n",
       "        vertical-align: top;\n",
       "    }\n",
       "\n",
       "    .dataframe thead th {\n",
       "        text-align: right;\n",
       "    }\n",
       "</style>\n",
       "<table border=\"1\" class=\"dataframe\">\n",
       "  <thead>\n",
       "    <tr style=\"text-align: right;\">\n",
       "      <th></th>\n",
       "      <th>State_of_Country</th>\n",
       "      <th>Market_Category</th>\n",
       "      <th>Product_Category</th>\n",
       "      <th>Grade</th>\n",
       "      <th>Demand</th>\n",
       "      <th>Low_Cap_Price</th>\n",
       "      <th>High_Cap_Price</th>\n",
       "      <th>month</th>\n",
       "      <th>year</th>\n",
       "    </tr>\n",
       "  </thead>\n",
       "  <tbody>\n",
       "    <tr>\n",
       "      <th>State_of_Country</th>\n",
       "      <td>1.000000</td>\n",
       "      <td>0.122124</td>\n",
       "      <td>0.205858</td>\n",
       "      <td>-0.038140</td>\n",
       "      <td>-0.002647</td>\n",
       "      <td>0.234901</td>\n",
       "      <td>0.027959</td>\n",
       "      <td>0.114371</td>\n",
       "      <td>-0.151553</td>\n",
       "    </tr>\n",
       "    <tr>\n",
       "      <th>Market_Category</th>\n",
       "      <td>0.122124</td>\n",
       "      <td>1.000000</td>\n",
       "      <td>-0.030353</td>\n",
       "      <td>-0.034454</td>\n",
       "      <td>-0.049241</td>\n",
       "      <td>0.198524</td>\n",
       "      <td>0.144557</td>\n",
       "      <td>0.115828</td>\n",
       "      <td>-0.190729</td>\n",
       "    </tr>\n",
       "    <tr>\n",
       "      <th>Product_Category</th>\n",
       "      <td>0.205858</td>\n",
       "      <td>-0.030353</td>\n",
       "      <td>1.000000</td>\n",
       "      <td>-0.056394</td>\n",
       "      <td>0.085874</td>\n",
       "      <td>0.180240</td>\n",
       "      <td>0.114415</td>\n",
       "      <td>0.041560</td>\n",
       "      <td>-0.062602</td>\n",
       "    </tr>\n",
       "    <tr>\n",
       "      <th>Grade</th>\n",
       "      <td>-0.038140</td>\n",
       "      <td>-0.034454</td>\n",
       "      <td>-0.056394</td>\n",
       "      <td>1.000000</td>\n",
       "      <td>0.047414</td>\n",
       "      <td>-0.079639</td>\n",
       "      <td>0.171083</td>\n",
       "      <td>-0.031837</td>\n",
       "      <td>0.046044</td>\n",
       "    </tr>\n",
       "    <tr>\n",
       "      <th>Demand</th>\n",
       "      <td>-0.002647</td>\n",
       "      <td>-0.049241</td>\n",
       "      <td>0.085874</td>\n",
       "      <td>0.047414</td>\n",
       "      <td>1.000000</td>\n",
       "      <td>-0.057482</td>\n",
       "      <td>-0.033971</td>\n",
       "      <td>-0.026519</td>\n",
       "      <td>0.005417</td>\n",
       "    </tr>\n",
       "    <tr>\n",
       "      <th>Low_Cap_Price</th>\n",
       "      <td>0.234901</td>\n",
       "      <td>0.198524</td>\n",
       "      <td>0.180240</td>\n",
       "      <td>-0.079639</td>\n",
       "      <td>-0.057482</td>\n",
       "      <td>1.000000</td>\n",
       "      <td>0.721021</td>\n",
       "      <td>0.281381</td>\n",
       "      <td>0.001937</td>\n",
       "    </tr>\n",
       "    <tr>\n",
       "      <th>High_Cap_Price</th>\n",
       "      <td>0.027959</td>\n",
       "      <td>0.144557</td>\n",
       "      <td>0.114415</td>\n",
       "      <td>0.171083</td>\n",
       "      <td>-0.033971</td>\n",
       "      <td>0.721021</td>\n",
       "      <td>1.000000</td>\n",
       "      <td>0.156869</td>\n",
       "      <td>0.151970</td>\n",
       "    </tr>\n",
       "    <tr>\n",
       "      <th>month</th>\n",
       "      <td>0.114371</td>\n",
       "      <td>0.115828</td>\n",
       "      <td>0.041560</td>\n",
       "      <td>-0.031837</td>\n",
       "      <td>-0.026519</td>\n",
       "      <td>0.281381</td>\n",
       "      <td>0.156869</td>\n",
       "      <td>1.000000</td>\n",
       "      <td>-0.449247</td>\n",
       "    </tr>\n",
       "    <tr>\n",
       "      <th>year</th>\n",
       "      <td>-0.151553</td>\n",
       "      <td>-0.190729</td>\n",
       "      <td>-0.062602</td>\n",
       "      <td>0.046044</td>\n",
       "      <td>0.005417</td>\n",
       "      <td>0.001937</td>\n",
       "      <td>0.151970</td>\n",
       "      <td>-0.449247</td>\n",
       "      <td>1.000000</td>\n",
       "    </tr>\n",
       "  </tbody>\n",
       "</table>\n",
       "</div>"
      ],
      "text/plain": [
       "                  State_of_Country  Market_Category  Product_Category  \\\n",
       "State_of_Country          1.000000         0.122124          0.205858   \n",
       "Market_Category           0.122124         1.000000         -0.030353   \n",
       "Product_Category          0.205858        -0.030353          1.000000   \n",
       "Grade                    -0.038140        -0.034454         -0.056394   \n",
       "Demand                   -0.002647        -0.049241          0.085874   \n",
       "Low_Cap_Price             0.234901         0.198524          0.180240   \n",
       "High_Cap_Price            0.027959         0.144557          0.114415   \n",
       "month                     0.114371         0.115828          0.041560   \n",
       "year                     -0.151553        -0.190729         -0.062602   \n",
       "\n",
       "                     Grade    Demand  Low_Cap_Price  High_Cap_Price     month  \\\n",
       "State_of_Country -0.038140 -0.002647       0.234901        0.027959  0.114371   \n",
       "Market_Category  -0.034454 -0.049241       0.198524        0.144557  0.115828   \n",
       "Product_Category -0.056394  0.085874       0.180240        0.114415  0.041560   \n",
       "Grade             1.000000  0.047414      -0.079639        0.171083 -0.031837   \n",
       "Demand            0.047414  1.000000      -0.057482       -0.033971 -0.026519   \n",
       "Low_Cap_Price    -0.079639 -0.057482       1.000000        0.721021  0.281381   \n",
       "High_Cap_Price    0.171083 -0.033971       0.721021        1.000000  0.156869   \n",
       "month            -0.031837 -0.026519       0.281381        0.156869  1.000000   \n",
       "year              0.046044  0.005417       0.001937        0.151970 -0.449247   \n",
       "\n",
       "                      year  \n",
       "State_of_Country -0.151553  \n",
       "Market_Category  -0.190729  \n",
       "Product_Category -0.062602  \n",
       "Grade             0.046044  \n",
       "Demand            0.005417  \n",
       "Low_Cap_Price     0.001937  \n",
       "High_Cap_Price    0.151970  \n",
       "month            -0.449247  \n",
       "year              1.000000  "
      ]
     },
     "execution_count": 42,
     "metadata": {},
     "output_type": "execute_result"
    }
   ],
   "source": [
    "df.corr()"
   ]
  },
  {
   "cell_type": "code",
   "execution_count": null,
   "metadata": {},
   "outputs": [],
   "source": []
  },
  {
   "cell_type": "code",
   "execution_count": 52,
   "metadata": {},
   "outputs": [
    {
     "data": {
      "text/html": [
       "<div>\n",
       "<style scoped>\n",
       "    .dataframe tbody tr th:only-of-type {\n",
       "        vertical-align: middle;\n",
       "    }\n",
       "\n",
       "    .dataframe tbody tr th {\n",
       "        vertical-align: top;\n",
       "    }\n",
       "\n",
       "    .dataframe thead th {\n",
       "        text-align: right;\n",
       "    }\n",
       "</style>\n",
       "<table border=\"1\" class=\"dataframe\">\n",
       "  <thead>\n",
       "    <tr style=\"text-align: right;\">\n",
       "      <th></th>\n",
       "      <th>State_of_Country</th>\n",
       "      <th>Market_Category</th>\n",
       "      <th>Product_Category</th>\n",
       "      <th>Grade</th>\n",
       "      <th>Demand</th>\n",
       "      <th>Low_Cap_Price</th>\n",
       "      <th>High_Cap_Price</th>\n",
       "      <th>month</th>\n",
       "      <th>year</th>\n",
       "    </tr>\n",
       "  </thead>\n",
       "  <tbody>\n",
       "    <tr>\n",
       "      <th>0</th>\n",
       "      <td>0</td>\n",
       "      <td>0</td>\n",
       "      <td>0</td>\n",
       "      <td>0</td>\n",
       "      <td>0.5</td>\n",
       "      <td>2785</td>\n",
       "      <td>4240</td>\n",
       "      <td>7</td>\n",
       "      <td>2007</td>\n",
       "    </tr>\n",
       "    <tr>\n",
       "      <th>1</th>\n",
       "      <td>0</td>\n",
       "      <td>1</td>\n",
       "      <td>0</td>\n",
       "      <td>0</td>\n",
       "      <td>0.7</td>\n",
       "      <td>3574</td>\n",
       "      <td>4756</td>\n",
       "      <td>7</td>\n",
       "      <td>2007</td>\n",
       "    </tr>\n",
       "    <tr>\n",
       "      <th>2</th>\n",
       "      <td>0</td>\n",
       "      <td>103</td>\n",
       "      <td>0</td>\n",
       "      <td>1</td>\n",
       "      <td>1.6</td>\n",
       "      <td>5978</td>\n",
       "      <td>9669</td>\n",
       "      <td>7</td>\n",
       "      <td>2007</td>\n",
       "    </tr>\n",
       "    <tr>\n",
       "      <th>3</th>\n",
       "      <td>0</td>\n",
       "      <td>103</td>\n",
       "      <td>0</td>\n",
       "      <td>0</td>\n",
       "      <td>0.0</td>\n",
       "      <td>5681</td>\n",
       "      <td>8313</td>\n",
       "      <td>7</td>\n",
       "      <td>2007</td>\n",
       "    </tr>\n",
       "    <tr>\n",
       "      <th>4</th>\n",
       "      <td>0</td>\n",
       "      <td>103</td>\n",
       "      <td>0</td>\n",
       "      <td>2</td>\n",
       "      <td>0.0</td>\n",
       "      <td>4924</td>\n",
       "      <td>7257</td>\n",
       "      <td>7</td>\n",
       "      <td>2007</td>\n",
       "    </tr>\n",
       "  </tbody>\n",
       "</table>\n",
       "</div>"
      ],
      "text/plain": [
       "   State_of_Country  Market_Category  Product_Category  Grade  Demand  \\\n",
       "0                 0                0                 0      0     0.5   \n",
       "1                 0                1                 0      0     0.7   \n",
       "2                 0              103                 0      1     1.6   \n",
       "3                 0              103                 0      0     0.0   \n",
       "4                 0              103                 0      2     0.0   \n",
       "\n",
       "   Low_Cap_Price  High_Cap_Price  month  year  \n",
       "0           2785            4240      7  2007  \n",
       "1           3574            4756      7  2007  \n",
       "2           5978            9669      7  2007  \n",
       "3           5681            8313      7  2007  \n",
       "4           4924            7257      7  2007  "
      ]
     },
     "execution_count": 52,
     "metadata": {},
     "output_type": "execute_result"
    }
   ],
   "source": [
    "df.head()"
   ]
  },
  {
   "cell_type": "code",
   "execution_count": 53,
   "metadata": {},
   "outputs": [
    {
     "data": {
      "text/plain": [
       "Index(['State_of_Country', 'Market_Category', 'Product_Category', 'Grade',\n",
       "       'Demand', 'Low_Cap_Price', 'High_Cap_Price', 'month', 'year'],\n",
       "      dtype='object')"
      ]
     },
     "execution_count": 53,
     "metadata": {},
     "output_type": "execute_result"
    }
   ],
   "source": [
    "df.columns"
   ]
  },
  {
   "cell_type": "code",
   "execution_count": 54,
   "metadata": {},
   "outputs": [],
   "source": [
    "X = df[['State_of_Country', 'Market_Category', 'Product_Category', 'Grade',\n",
    "       'Demand', 'High_Cap_Price', 'month', 'year']]"
   ]
  },
  {
   "cell_type": "code",
   "execution_count": 55,
   "metadata": {},
   "outputs": [],
   "source": [
    "y = df['Low_Cap_Price']"
   ]
  },
  {
   "cell_type": "code",
   "execution_count": 56,
   "metadata": {},
   "outputs": [],
   "source": [
    "from sklearn.model_selection import train_test_split"
   ]
  },
  {
   "cell_type": "code",
   "execution_count": 57,
   "metadata": {},
   "outputs": [],
   "source": [
    "X_train, X_test, y_train, y_test = train_test_split(X, y, test_size=0.1, random_state=42)"
   ]
  },
  {
   "cell_type": "code",
   "execution_count": 58,
   "metadata": {},
   "outputs": [],
   "source": [
    "from sklearn.linear_model import LinearRegression\n",
    "lg = LinearRegression()"
   ]
  },
  {
   "cell_type": "code",
   "execution_count": 59,
   "metadata": {},
   "outputs": [
    {
     "data": {
      "text/plain": [
       "LinearRegression()"
      ]
     },
     "execution_count": 59,
     "metadata": {},
     "output_type": "execute_result"
    }
   ],
   "source": [
    "lg.fit(X_train,y_train)"
   ]
  },
  {
   "cell_type": "code",
   "execution_count": 61,
   "metadata": {},
   "outputs": [
    {
     "data": {
      "text/plain": [
       "0.6287965494090626"
      ]
     },
     "execution_count": 61,
     "metadata": {},
     "output_type": "execute_result"
    }
   ],
   "source": [
    "lg.score(X_train,y_train)"
   ]
  },
  {
   "cell_type": "code",
   "execution_count": 63,
   "metadata": {},
   "outputs": [],
   "source": [
    "from sklearn.ensemble import RandomForestRegressor\n",
    "regr = RandomForestRegressor(max_depth=42, random_state=0)"
   ]
  },
  {
   "cell_type": "code",
   "execution_count": 65,
   "metadata": {},
   "outputs": [
    {
     "data": {
      "text/plain": [
       "RandomForestRegressor(max_depth=42, random_state=0)"
      ]
     },
     "execution_count": 65,
     "metadata": {},
     "output_type": "execute_result"
    }
   ],
   "source": [
    "regr.fit(X_train,y_train)"
   ]
  },
  {
   "cell_type": "code",
   "execution_count": 66,
   "metadata": {},
   "outputs": [
    {
     "data": {
      "text/plain": [
       "0.9816266528790432"
      ]
     },
     "execution_count": 66,
     "metadata": {},
     "output_type": "execute_result"
    }
   ],
   "source": [
    "regr.score(X_train,y_train)"
   ]
  },
  {
   "cell_type": "code",
   "execution_count": 67,
   "metadata": {},
   "outputs": [
    {
     "data": {
      "text/plain": [
       "0.8625704643155896"
      ]
     },
     "execution_count": 67,
     "metadata": {},
     "output_type": "execute_result"
    }
   ],
   "source": [
    "regr.score(X_test,y_test)"
   ]
  },
  {
   "cell_type": "code",
   "execution_count": 68,
   "metadata": {},
   "outputs": [],
   "source": [
    "df_test = pd.read_csv(\"dataset/test.csv\")"
   ]
  },
  {
   "cell_type": "code",
   "execution_count": 69,
   "metadata": {},
   "outputs": [
    {
     "data": {
      "text/html": [
       "<div>\n",
       "<style scoped>\n",
       "    .dataframe tbody tr th:only-of-type {\n",
       "        vertical-align: middle;\n",
       "    }\n",
       "\n",
       "    .dataframe tbody tr th {\n",
       "        vertical-align: top;\n",
       "    }\n",
       "\n",
       "    .dataframe thead th {\n",
       "        text-align: right;\n",
       "    }\n",
       "</style>\n",
       "<table border=\"1\" class=\"dataframe\">\n",
       "  <thead>\n",
       "    <tr style=\"text-align: right;\">\n",
       "      <th></th>\n",
       "      <th>Item_Id</th>\n",
       "      <th>Date</th>\n",
       "      <th>State_of_Country</th>\n",
       "      <th>Market_Category</th>\n",
       "      <th>Product_Category</th>\n",
       "      <th>Grade</th>\n",
       "      <th>Demand</th>\n",
       "      <th>High_Cap_Price</th>\n",
       "    </tr>\n",
       "  </thead>\n",
       "  <tbody>\n",
       "    <tr>\n",
       "      <th>0</th>\n",
       "      <td>IT_265079</td>\n",
       "      <td>2014-01-19</td>\n",
       "      <td>0</td>\n",
       "      <td>3</td>\n",
       "      <td>0</td>\n",
       "      <td>0</td>\n",
       "      <td>0.1</td>\n",
       "      <td>5303</td>\n",
       "    </tr>\n",
       "    <tr>\n",
       "      <th>1</th>\n",
       "      <td>IT_265087</td>\n",
       "      <td>2014-01-19</td>\n",
       "      <td>0</td>\n",
       "      <td>268</td>\n",
       "      <td>0</td>\n",
       "      <td>2</td>\n",
       "      <td>1.4</td>\n",
       "      <td>10492</td>\n",
       "    </tr>\n",
       "    <tr>\n",
       "      <th>2</th>\n",
       "      <td>IT_265107</td>\n",
       "      <td>2014-01-19</td>\n",
       "      <td>0</td>\n",
       "      <td>320</td>\n",
       "      <td>0</td>\n",
       "      <td>0</td>\n",
       "      <td>13.4</td>\n",
       "      <td>24706</td>\n",
       "    </tr>\n",
       "    <tr>\n",
       "      <th>3</th>\n",
       "      <td>IT_265139</td>\n",
       "      <td>2014-01-19</td>\n",
       "      <td>17</td>\n",
       "      <td>358</td>\n",
       "      <td>0</td>\n",
       "      <td>3</td>\n",
       "      <td>5.5</td>\n",
       "      <td>23464</td>\n",
       "    </tr>\n",
       "    <tr>\n",
       "      <th>4</th>\n",
       "      <td>IT_265142</td>\n",
       "      <td>2014-01-19</td>\n",
       "      <td>18</td>\n",
       "      <td>23</td>\n",
       "      <td>5</td>\n",
       "      <td>2</td>\n",
       "      <td>0.0</td>\n",
       "      <td>6222</td>\n",
       "    </tr>\n",
       "  </tbody>\n",
       "</table>\n",
       "</div>"
      ],
      "text/plain": [
       "     Item_Id        Date  State_of_Country  Market_Category  Product_Category  \\\n",
       "0  IT_265079  2014-01-19                 0                3                 0   \n",
       "1  IT_265087  2014-01-19                 0              268                 0   \n",
       "2  IT_265107  2014-01-19                 0              320                 0   \n",
       "3  IT_265139  2014-01-19                17              358                 0   \n",
       "4  IT_265142  2014-01-19                18               23                 5   \n",
       "\n",
       "   Grade  Demand  High_Cap_Price  \n",
       "0      0     0.1            5303  \n",
       "1      2     1.4           10492  \n",
       "2      0    13.4           24706  \n",
       "3      3     5.5           23464  \n",
       "4      2     0.0            6222  "
      ]
     },
     "execution_count": 69,
     "metadata": {},
     "output_type": "execute_result"
    }
   ],
   "source": [
    "df_test.head()"
   ]
  },
  {
   "cell_type": "code",
   "execution_count": 70,
   "metadata": {},
   "outputs": [],
   "source": [
    "df_test['sell_date'] = pd.to_datetime(df_test['Date'])\n",
    "df_test['month'] = df_test['sell_date'].dt.month\n",
    "df_test['year'] = df_test['sell_date'].dt.year\n",
    "df_test.drop(columns=['Item_Id','Date','sell_date'],inplace=True)"
   ]
  },
  {
   "cell_type": "code",
   "execution_count": 72,
   "metadata": {},
   "outputs": [],
   "source": [
    "X = df_test[['State_of_Country', 'Market_Category', 'Product_Category', 'Grade',\n",
    "       'Demand', 'High_Cap_Price', 'month', 'year']]"
   ]
  },
  {
   "cell_type": "code",
   "execution_count": 73,
   "metadata": {},
   "outputs": [],
   "source": [
    "y_pred = regr.predict(X)"
   ]
  },
  {
   "cell_type": "code",
   "execution_count": 84,
   "metadata": {},
   "outputs": [],
   "source": [
    "test_data_iid = pd.read_csv(\"dataset/test.csv\")['Item_Id'].values"
   ]
  },
  {
   "cell_type": "code",
   "execution_count": 85,
   "metadata": {},
   "outputs": [],
   "source": [
    "output=pd.DataFrame(list(zip(test_data_iid,y_pred)),columns=['Item_Id','Low_Cap_Price'])"
   ]
  },
  {
   "cell_type": "code",
   "execution_count": 86,
   "metadata": {},
   "outputs": [],
   "source": [
    "output.to_csv(\"output.csv\",index=False)"
   ]
  },
  {
   "cell_type": "code",
   "execution_count": null,
   "metadata": {},
   "outputs": [],
   "source": []
  }
 ],
 "metadata": {
  "kernelspec": {
   "display_name": "Python 3",
   "language": "python",
   "name": "python3"
  },
  "language_info": {
   "codemirror_mode": {
    "name": "ipython",
    "version": 3
   },
   "file_extension": ".py",
   "mimetype": "text/x-python",
   "name": "python",
   "nbconvert_exporter": "python",
   "pygments_lexer": "ipython3",
   "version": "3.8.5"
  }
 },
 "nbformat": 4,
 "nbformat_minor": 4
}
