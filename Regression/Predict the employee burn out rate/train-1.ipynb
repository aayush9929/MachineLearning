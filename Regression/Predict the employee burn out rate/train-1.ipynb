{
 "cells": [
  {
   "cell_type": "code",
   "execution_count": 1,
   "metadata": {},
   "outputs": [],
   "source": [
    "import pandas as pd\n",
    "import numpy as np"
   ]
  },
  {
   "cell_type": "code",
   "execution_count": 4,
   "metadata": {},
   "outputs": [],
   "source": [
    "df = pd.read_csv('dataset/train.csv')"
   ]
  },
  {
   "cell_type": "code",
   "execution_count": 5,
   "metadata": {},
   "outputs": [
    {
     "data": {
      "text/html": [
       "<div>\n",
       "<style scoped>\n",
       "    .dataframe tbody tr th:only-of-type {\n",
       "        vertical-align: middle;\n",
       "    }\n",
       "\n",
       "    .dataframe tbody tr th {\n",
       "        vertical-align: top;\n",
       "    }\n",
       "\n",
       "    .dataframe thead th {\n",
       "        text-align: right;\n",
       "    }\n",
       "</style>\n",
       "<table border=\"1\" class=\"dataframe\">\n",
       "  <thead>\n",
       "    <tr style=\"text-align: right;\">\n",
       "      <th></th>\n",
       "      <th>Employee ID</th>\n",
       "      <th>Date of Joining</th>\n",
       "      <th>Gender</th>\n",
       "      <th>Company Type</th>\n",
       "      <th>WFH Setup Available</th>\n",
       "      <th>Designation</th>\n",
       "      <th>Resource Allocation</th>\n",
       "      <th>Mental Fatigue Score</th>\n",
       "      <th>Burn Rate</th>\n",
       "    </tr>\n",
       "  </thead>\n",
       "  <tbody>\n",
       "    <tr>\n",
       "      <th>0</th>\n",
       "      <td>fffe32003000360033003200</td>\n",
       "      <td>2008-09-30</td>\n",
       "      <td>Female</td>\n",
       "      <td>Service</td>\n",
       "      <td>No</td>\n",
       "      <td>2.0</td>\n",
       "      <td>3.0</td>\n",
       "      <td>3.8</td>\n",
       "      <td>0.16</td>\n",
       "    </tr>\n",
       "    <tr>\n",
       "      <th>1</th>\n",
       "      <td>fffe3700360033003500</td>\n",
       "      <td>2008-11-30</td>\n",
       "      <td>Male</td>\n",
       "      <td>Service</td>\n",
       "      <td>Yes</td>\n",
       "      <td>1.0</td>\n",
       "      <td>2.0</td>\n",
       "      <td>5.0</td>\n",
       "      <td>0.36</td>\n",
       "    </tr>\n",
       "    <tr>\n",
       "      <th>2</th>\n",
       "      <td>fffe31003300320037003900</td>\n",
       "      <td>2008-03-10</td>\n",
       "      <td>Female</td>\n",
       "      <td>Product</td>\n",
       "      <td>Yes</td>\n",
       "      <td>2.0</td>\n",
       "      <td>NaN</td>\n",
       "      <td>5.8</td>\n",
       "      <td>0.49</td>\n",
       "    </tr>\n",
       "    <tr>\n",
       "      <th>3</th>\n",
       "      <td>fffe32003400380032003900</td>\n",
       "      <td>2008-11-03</td>\n",
       "      <td>Male</td>\n",
       "      <td>Service</td>\n",
       "      <td>Yes</td>\n",
       "      <td>1.0</td>\n",
       "      <td>1.0</td>\n",
       "      <td>2.6</td>\n",
       "      <td>0.20</td>\n",
       "    </tr>\n",
       "    <tr>\n",
       "      <th>4</th>\n",
       "      <td>fffe31003900340031003600</td>\n",
       "      <td>2008-07-24</td>\n",
       "      <td>Female</td>\n",
       "      <td>Service</td>\n",
       "      <td>No</td>\n",
       "      <td>3.0</td>\n",
       "      <td>7.0</td>\n",
       "      <td>6.9</td>\n",
       "      <td>0.52</td>\n",
       "    </tr>\n",
       "  </tbody>\n",
       "</table>\n",
       "</div>"
      ],
      "text/plain": [
       "                Employee ID Date of Joining  Gender Company Type  \\\n",
       "0  fffe32003000360033003200      2008-09-30  Female      Service   \n",
       "1      fffe3700360033003500      2008-11-30    Male      Service   \n",
       "2  fffe31003300320037003900      2008-03-10  Female      Product   \n",
       "3  fffe32003400380032003900      2008-11-03    Male      Service   \n",
       "4  fffe31003900340031003600      2008-07-24  Female      Service   \n",
       "\n",
       "  WFH Setup Available  Designation  Resource Allocation  Mental Fatigue Score  \\\n",
       "0                  No          2.0                  3.0                   3.8   \n",
       "1                 Yes          1.0                  2.0                   5.0   \n",
       "2                 Yes          2.0                  NaN                   5.8   \n",
       "3                 Yes          1.0                  1.0                   2.6   \n",
       "4                  No          3.0                  7.0                   6.9   \n",
       "\n",
       "   Burn Rate  \n",
       "0       0.16  \n",
       "1       0.36  \n",
       "2       0.49  \n",
       "3       0.20  \n",
       "4       0.52  "
      ]
     },
     "execution_count": 5,
     "metadata": {},
     "output_type": "execute_result"
    }
   ],
   "source": [
    "df.head()"
   ]
  },
  {
   "cell_type": "code",
   "execution_count": 6,
   "metadata": {},
   "outputs": [
    {
     "name": "stdout",
     "output_type": "stream",
     "text": [
      "<class 'pandas.core.frame.DataFrame'>\n",
      "RangeIndex: 22750 entries, 0 to 22749\n",
      "Data columns (total 9 columns):\n",
      " #   Column                Non-Null Count  Dtype  \n",
      "---  ------                --------------  -----  \n",
      " 0   Employee ID           22750 non-null  object \n",
      " 1   Date of Joining       22750 non-null  object \n",
      " 2   Gender                22750 non-null  object \n",
      " 3   Company Type          22750 non-null  object \n",
      " 4   WFH Setup Available   22750 non-null  object \n",
      " 5   Designation           22750 non-null  float64\n",
      " 6   Resource Allocation   21369 non-null  float64\n",
      " 7   Mental Fatigue Score  20633 non-null  float64\n",
      " 8   Burn Rate             21626 non-null  float64\n",
      "dtypes: float64(4), object(5)\n",
      "memory usage: 1.6+ MB\n"
     ]
    }
   ],
   "source": [
    "df.info()"
   ]
  },
  {
   "cell_type": "code",
   "execution_count": 7,
   "metadata": {},
   "outputs": [],
   "source": [
    "df.drop(columns=['Employee ID'],inplace=True)"
   ]
  },
  {
   "cell_type": "code",
   "execution_count": 8,
   "metadata": {},
   "outputs": [
    {
     "name": "stdout",
     "output_type": "stream",
     "text": [
      "<class 'pandas.core.frame.DataFrame'>\n",
      "RangeIndex: 22750 entries, 0 to 22749\n",
      "Data columns (total 8 columns):\n",
      " #   Column                Non-Null Count  Dtype  \n",
      "---  ------                --------------  -----  \n",
      " 0   Date of Joining       22750 non-null  object \n",
      " 1   Gender                22750 non-null  object \n",
      " 2   Company Type          22750 non-null  object \n",
      " 3   WFH Setup Available   22750 non-null  object \n",
      " 4   Designation           22750 non-null  float64\n",
      " 5   Resource Allocation   21369 non-null  float64\n",
      " 6   Mental Fatigue Score  20633 non-null  float64\n",
      " 7   Burn Rate             21626 non-null  float64\n",
      "dtypes: float64(4), object(4)\n",
      "memory usage: 1.4+ MB\n"
     ]
    }
   ],
   "source": [
    "df.info()"
   ]
  },
  {
   "cell_type": "code",
   "execution_count": 23,
   "metadata": {},
   "outputs": [],
   "source": [
    "import datetime\n",
    "d0 = datetime.date(2009, 10, 10)\n",
    "d1 = d0-pd.to_datetime(max(df['Date of Joining'])).date()\n"
   ]
  },
  {
   "cell_type": "code",
   "execution_count": 44,
   "metadata": {},
   "outputs": [],
   "source": [
    "working_days = []\n",
    "dates = (survey_date -  pd.to_datetime(df['Date of Joining']).dt.date)\n",
    "len(dates)\n",
    "for i in dates:\n",
    "    working_days.append(i.days)\n",
    "df['working_days'] = working_days"
   ]
  },
  {
   "cell_type": "code",
   "execution_count": 45,
   "metadata": {},
   "outputs": [
    {
     "name": "stdout",
     "output_type": "stream",
     "text": [
      "<class 'pandas.core.frame.DataFrame'>\n",
      "RangeIndex: 22750 entries, 0 to 22749\n",
      "Data columns (total 9 columns):\n",
      " #   Column                Non-Null Count  Dtype  \n",
      "---  ------                --------------  -----  \n",
      " 0   Date of Joining       22750 non-null  object \n",
      " 1   Gender                22750 non-null  object \n",
      " 2   Company Type          22750 non-null  object \n",
      " 3   WFH Setup Available   22750 non-null  object \n",
      " 4   Designation           22750 non-null  float64\n",
      " 5   Resource Allocation   21369 non-null  float64\n",
      " 6   Mental Fatigue Score  20633 non-null  float64\n",
      " 7   Burn Rate             21626 non-null  float64\n",
      " 8   working_days          22750 non-null  int64  \n",
      "dtypes: float64(4), int64(1), object(4)\n",
      "memory usage: 1.6+ MB\n"
     ]
    }
   ],
   "source": [
    "df.info()"
   ]
  },
  {
   "cell_type": "code",
   "execution_count": 47,
   "metadata": {},
   "outputs": [],
   "source": [
    "df.drop(columns=['Date of Joining'],inplace=True)"
   ]
  },
  {
   "cell_type": "code",
   "execution_count": 48,
   "metadata": {},
   "outputs": [],
   "source": [
    "from sklearn.preprocessing import LabelEncoder"
   ]
  },
  {
   "cell_type": "code",
   "execution_count": 52,
   "metadata": {},
   "outputs": [],
   "source": [
    "lg = LabelEncoder()\n",
    "lct = LabelEncoder()\n",
    "lwsa = LabelEncoder()"
   ]
  },
  {
   "cell_type": "code",
   "execution_count": 53,
   "metadata": {},
   "outputs": [],
   "source": [
    "lg_o = lg.fit(df['Gender'])"
   ]
  },
  {
   "cell_type": "code",
   "execution_count": 54,
   "metadata": {},
   "outputs": [],
   "source": [
    "lct_o = lct.fit(df['Company Type'])"
   ]
  },
  {
   "cell_type": "code",
   "execution_count": 55,
   "metadata": {},
   "outputs": [],
   "source": [
    "lwsa_o = lwsa.fit(df['WFH Setup Available'])"
   ]
  },
  {
   "cell_type": "code",
   "execution_count": 56,
   "metadata": {},
   "outputs": [
    {
     "data": {
      "text/plain": [
       "array(['Female', 'Male'], dtype=object)"
      ]
     },
     "execution_count": 56,
     "metadata": {},
     "output_type": "execute_result"
    }
   ],
   "source": [
    "lg_o.classes_"
   ]
  },
  {
   "cell_type": "code",
   "execution_count": 57,
   "metadata": {},
   "outputs": [
    {
     "data": {
      "text/plain": [
       "array(['Product', 'Service'], dtype=object)"
      ]
     },
     "execution_count": 57,
     "metadata": {},
     "output_type": "execute_result"
    }
   ],
   "source": [
    "lct_o.classes_"
   ]
  },
  {
   "cell_type": "code",
   "execution_count": 58,
   "metadata": {},
   "outputs": [
    {
     "data": {
      "text/plain": [
       "array(['No', 'Yes'], dtype=object)"
      ]
     },
     "execution_count": 58,
     "metadata": {},
     "output_type": "execute_result"
    }
   ],
   "source": [
    "lwsa_o.classes_"
   ]
  },
  {
   "cell_type": "code",
   "execution_count": 59,
   "metadata": {},
   "outputs": [
    {
     "name": "stdout",
     "output_type": "stream",
     "text": [
      "<class 'pandas.core.frame.DataFrame'>\n",
      "RangeIndex: 22750 entries, 0 to 22749\n",
      "Data columns (total 8 columns):\n",
      " #   Column                Non-Null Count  Dtype  \n",
      "---  ------                --------------  -----  \n",
      " 0   Gender                22750 non-null  object \n",
      " 1   Company Type          22750 non-null  object \n",
      " 2   WFH Setup Available   22750 non-null  object \n",
      " 3   Designation           22750 non-null  float64\n",
      " 4   Resource Allocation   21369 non-null  float64\n",
      " 5   Mental Fatigue Score  20633 non-null  float64\n",
      " 6   Burn Rate             21626 non-null  float64\n",
      " 7   working_days          22750 non-null  int64  \n",
      "dtypes: float64(4), int64(1), object(3)\n",
      "memory usage: 1.4+ MB\n"
     ]
    }
   ],
   "source": [
    "df.info()"
   ]
  },
  {
   "cell_type": "code",
   "execution_count": 62,
   "metadata": {},
   "outputs": [],
   "source": [
    "df['Gender_Classes'] = lg_o.transform(df['Gender'])"
   ]
  },
  {
   "cell_type": "code",
   "execution_count": 63,
   "metadata": {},
   "outputs": [],
   "source": [
    "df['CompanyType_Classes'] = lct_o.transform(df['Company Type'])"
   ]
  },
  {
   "cell_type": "code",
   "execution_count": 64,
   "metadata": {},
   "outputs": [],
   "source": [
    "df['WFHSetupAvailable_Classes'] = lwsa_o.transform(df['WFH Setup Available'])"
   ]
  },
  {
   "cell_type": "code",
   "execution_count": 65,
   "metadata": {},
   "outputs": [
    {
     "data": {
      "text/html": [
       "<div>\n",
       "<style scoped>\n",
       "    .dataframe tbody tr th:only-of-type {\n",
       "        vertical-align: middle;\n",
       "    }\n",
       "\n",
       "    .dataframe tbody tr th {\n",
       "        vertical-align: top;\n",
       "    }\n",
       "\n",
       "    .dataframe thead th {\n",
       "        text-align: right;\n",
       "    }\n",
       "</style>\n",
       "<table border=\"1\" class=\"dataframe\">\n",
       "  <thead>\n",
       "    <tr style=\"text-align: right;\">\n",
       "      <th></th>\n",
       "      <th>Gender</th>\n",
       "      <th>Company Type</th>\n",
       "      <th>WFH Setup Available</th>\n",
       "      <th>Designation</th>\n",
       "      <th>Resource Allocation</th>\n",
       "      <th>Mental Fatigue Score</th>\n",
       "      <th>Burn Rate</th>\n",
       "      <th>working_days</th>\n",
       "      <th>Gender_Classes</th>\n",
       "      <th>CompanyType_Classes</th>\n",
       "      <th>WFHSetupAvailable_Classes</th>\n",
       "    </tr>\n",
       "  </thead>\n",
       "  <tbody>\n",
       "    <tr>\n",
       "      <th>0</th>\n",
       "      <td>Female</td>\n",
       "      <td>Service</td>\n",
       "      <td>No</td>\n",
       "      <td>2.0</td>\n",
       "      <td>3.0</td>\n",
       "      <td>3.8</td>\n",
       "      <td>0.16</td>\n",
       "      <td>375</td>\n",
       "      <td>0</td>\n",
       "      <td>1</td>\n",
       "      <td>0</td>\n",
       "    </tr>\n",
       "    <tr>\n",
       "      <th>1</th>\n",
       "      <td>Male</td>\n",
       "      <td>Service</td>\n",
       "      <td>Yes</td>\n",
       "      <td>1.0</td>\n",
       "      <td>2.0</td>\n",
       "      <td>5.0</td>\n",
       "      <td>0.36</td>\n",
       "      <td>314</td>\n",
       "      <td>1</td>\n",
       "      <td>1</td>\n",
       "      <td>1</td>\n",
       "    </tr>\n",
       "    <tr>\n",
       "      <th>2</th>\n",
       "      <td>Female</td>\n",
       "      <td>Product</td>\n",
       "      <td>Yes</td>\n",
       "      <td>2.0</td>\n",
       "      <td>NaN</td>\n",
       "      <td>5.8</td>\n",
       "      <td>0.49</td>\n",
       "      <td>579</td>\n",
       "      <td>0</td>\n",
       "      <td>0</td>\n",
       "      <td>1</td>\n",
       "    </tr>\n",
       "    <tr>\n",
       "      <th>3</th>\n",
       "      <td>Male</td>\n",
       "      <td>Service</td>\n",
       "      <td>Yes</td>\n",
       "      <td>1.0</td>\n",
       "      <td>1.0</td>\n",
       "      <td>2.6</td>\n",
       "      <td>0.20</td>\n",
       "      <td>341</td>\n",
       "      <td>1</td>\n",
       "      <td>1</td>\n",
       "      <td>1</td>\n",
       "    </tr>\n",
       "    <tr>\n",
       "      <th>4</th>\n",
       "      <td>Female</td>\n",
       "      <td>Service</td>\n",
       "      <td>No</td>\n",
       "      <td>3.0</td>\n",
       "      <td>7.0</td>\n",
       "      <td>6.9</td>\n",
       "      <td>0.52</td>\n",
       "      <td>443</td>\n",
       "      <td>0</td>\n",
       "      <td>1</td>\n",
       "      <td>0</td>\n",
       "    </tr>\n",
       "  </tbody>\n",
       "</table>\n",
       "</div>"
      ],
      "text/plain": [
       "   Gender Company Type WFH Setup Available  Designation  Resource Allocation  \\\n",
       "0  Female      Service                  No          2.0                  3.0   \n",
       "1    Male      Service                 Yes          1.0                  2.0   \n",
       "2  Female      Product                 Yes          2.0                  NaN   \n",
       "3    Male      Service                 Yes          1.0                  1.0   \n",
       "4  Female      Service                  No          3.0                  7.0   \n",
       "\n",
       "   Mental Fatigue Score  Burn Rate  working_days  Gender_Classes  \\\n",
       "0                   3.8       0.16           375               0   \n",
       "1                   5.0       0.36           314               1   \n",
       "2                   5.8       0.49           579               0   \n",
       "3                   2.6       0.20           341               1   \n",
       "4                   6.9       0.52           443               0   \n",
       "\n",
       "   CompanyType_Classes  WFHSetupAvailable_Classes  \n",
       "0                    1                          0  \n",
       "1                    1                          1  \n",
       "2                    0                          1  \n",
       "3                    1                          1  \n",
       "4                    1                          0  "
      ]
     },
     "execution_count": 65,
     "metadata": {},
     "output_type": "execute_result"
    }
   ],
   "source": [
    "df.head()"
   ]
  },
  {
   "cell_type": "code",
   "execution_count": 66,
   "metadata": {},
   "outputs": [],
   "source": [
    "df.drop(columns = ['Gender','Company Type','WFH Setup Available'],inplace=True)"
   ]
  },
  {
   "cell_type": "code",
   "execution_count": 67,
   "metadata": {},
   "outputs": [
    {
     "name": "stdout",
     "output_type": "stream",
     "text": [
      "<class 'pandas.core.frame.DataFrame'>\n",
      "RangeIndex: 22750 entries, 0 to 22749\n",
      "Data columns (total 8 columns):\n",
      " #   Column                     Non-Null Count  Dtype  \n",
      "---  ------                     --------------  -----  \n",
      " 0   Designation                22750 non-null  float64\n",
      " 1   Resource Allocation        21369 non-null  float64\n",
      " 2   Mental Fatigue Score       20633 non-null  float64\n",
      " 3   Burn Rate                  21626 non-null  float64\n",
      " 4   working_days               22750 non-null  int64  \n",
      " 5   Gender_Classes             22750 non-null  int32  \n",
      " 6   CompanyType_Classes        22750 non-null  int32  \n",
      " 7   WFHSetupAvailable_Classes  22750 non-null  int32  \n",
      "dtypes: float64(4), int32(3), int64(1)\n",
      "memory usage: 1.1 MB\n"
     ]
    }
   ],
   "source": [
    "df.info()"
   ]
  },
  {
   "cell_type": "code",
   "execution_count": 68,
   "metadata": {},
   "outputs": [
    {
     "data": {
      "text/html": [
       "<div>\n",
       "<style scoped>\n",
       "    .dataframe tbody tr th:only-of-type {\n",
       "        vertical-align: middle;\n",
       "    }\n",
       "\n",
       "    .dataframe tbody tr th {\n",
       "        vertical-align: top;\n",
       "    }\n",
       "\n",
       "    .dataframe thead th {\n",
       "        text-align: right;\n",
       "    }\n",
       "</style>\n",
       "<table border=\"1\" class=\"dataframe\">\n",
       "  <thead>\n",
       "    <tr style=\"text-align: right;\">\n",
       "      <th></th>\n",
       "      <th>Designation</th>\n",
       "      <th>Resource Allocation</th>\n",
       "      <th>Mental Fatigue Score</th>\n",
       "      <th>Burn Rate</th>\n",
       "      <th>working_days</th>\n",
       "      <th>Gender_Classes</th>\n",
       "      <th>CompanyType_Classes</th>\n",
       "      <th>WFHSetupAvailable_Classes</th>\n",
       "    </tr>\n",
       "  </thead>\n",
       "  <tbody>\n",
       "    <tr>\n",
       "      <th>0</th>\n",
       "      <td>2.0</td>\n",
       "      <td>3.0</td>\n",
       "      <td>3.8</td>\n",
       "      <td>0.16</td>\n",
       "      <td>375</td>\n",
       "      <td>0</td>\n",
       "      <td>1</td>\n",
       "      <td>0</td>\n",
       "    </tr>\n",
       "    <tr>\n",
       "      <th>1</th>\n",
       "      <td>1.0</td>\n",
       "      <td>2.0</td>\n",
       "      <td>5.0</td>\n",
       "      <td>0.36</td>\n",
       "      <td>314</td>\n",
       "      <td>1</td>\n",
       "      <td>1</td>\n",
       "      <td>1</td>\n",
       "    </tr>\n",
       "    <tr>\n",
       "      <th>2</th>\n",
       "      <td>2.0</td>\n",
       "      <td>NaN</td>\n",
       "      <td>5.8</td>\n",
       "      <td>0.49</td>\n",
       "      <td>579</td>\n",
       "      <td>0</td>\n",
       "      <td>0</td>\n",
       "      <td>1</td>\n",
       "    </tr>\n",
       "    <tr>\n",
       "      <th>3</th>\n",
       "      <td>1.0</td>\n",
       "      <td>1.0</td>\n",
       "      <td>2.6</td>\n",
       "      <td>0.20</td>\n",
       "      <td>341</td>\n",
       "      <td>1</td>\n",
       "      <td>1</td>\n",
       "      <td>1</td>\n",
       "    </tr>\n",
       "    <tr>\n",
       "      <th>4</th>\n",
       "      <td>3.0</td>\n",
       "      <td>7.0</td>\n",
       "      <td>6.9</td>\n",
       "      <td>0.52</td>\n",
       "      <td>443</td>\n",
       "      <td>0</td>\n",
       "      <td>1</td>\n",
       "      <td>0</td>\n",
       "    </tr>\n",
       "  </tbody>\n",
       "</table>\n",
       "</div>"
      ],
      "text/plain": [
       "   Designation  Resource Allocation  Mental Fatigue Score  Burn Rate  \\\n",
       "0          2.0                  3.0                   3.8       0.16   \n",
       "1          1.0                  2.0                   5.0       0.36   \n",
       "2          2.0                  NaN                   5.8       0.49   \n",
       "3          1.0                  1.0                   2.6       0.20   \n",
       "4          3.0                  7.0                   6.9       0.52   \n",
       "\n",
       "   working_days  Gender_Classes  CompanyType_Classes  \\\n",
       "0           375               0                    1   \n",
       "1           314               1                    1   \n",
       "2           579               0                    0   \n",
       "3           341               1                    1   \n",
       "4           443               0                    1   \n",
       "\n",
       "   WFHSetupAvailable_Classes  \n",
       "0                          0  \n",
       "1                          1  \n",
       "2                          1  \n",
       "3                          1  \n",
       "4                          0  "
      ]
     },
     "execution_count": 68,
     "metadata": {},
     "output_type": "execute_result"
    }
   ],
   "source": [
    "df.head()"
   ]
  },
  {
   "cell_type": "code",
   "execution_count": 69,
   "metadata": {},
   "outputs": [
    {
     "data": {
      "text/html": [
       "<div>\n",
       "<style scoped>\n",
       "    .dataframe tbody tr th:only-of-type {\n",
       "        vertical-align: middle;\n",
       "    }\n",
       "\n",
       "    .dataframe tbody tr th {\n",
       "        vertical-align: top;\n",
       "    }\n",
       "\n",
       "    .dataframe thead th {\n",
       "        text-align: right;\n",
       "    }\n",
       "</style>\n",
       "<table border=\"1\" class=\"dataframe\">\n",
       "  <thead>\n",
       "    <tr style=\"text-align: right;\">\n",
       "      <th></th>\n",
       "      <th>Designation</th>\n",
       "      <th>Resource Allocation</th>\n",
       "      <th>Mental Fatigue Score</th>\n",
       "      <th>Burn Rate</th>\n",
       "      <th>working_days</th>\n",
       "      <th>Gender_Classes</th>\n",
       "      <th>CompanyType_Classes</th>\n",
       "      <th>WFHSetupAvailable_Classes</th>\n",
       "    </tr>\n",
       "  </thead>\n",
       "  <tbody>\n",
       "    <tr>\n",
       "      <th>Designation</th>\n",
       "      <td>1.000000</td>\n",
       "      <td>0.878459</td>\n",
       "      <td>0.690983</td>\n",
       "      <td>0.737556</td>\n",
       "      <td>0.000930</td>\n",
       "      <td>0.113295</td>\n",
       "      <td>0.006095</td>\n",
       "      <td>-0.229720</td>\n",
       "    </tr>\n",
       "    <tr>\n",
       "      <th>Resource Allocation</th>\n",
       "      <td>0.878459</td>\n",
       "      <td>1.000000</td>\n",
       "      <td>0.799662</td>\n",
       "      <td>0.856278</td>\n",
       "      <td>0.000474</td>\n",
       "      <td>0.143228</td>\n",
       "      <td>0.005844</td>\n",
       "      <td>-0.285085</td>\n",
       "    </tr>\n",
       "    <tr>\n",
       "      <th>Mental Fatigue Score</th>\n",
       "      <td>0.690983</td>\n",
       "      <td>0.799662</td>\n",
       "      <td>1.000000</td>\n",
       "      <td>0.944546</td>\n",
       "      <td>-0.002417</td>\n",
       "      <td>0.145665</td>\n",
       "      <td>0.002661</td>\n",
       "      <td>-0.276580</td>\n",
       "    </tr>\n",
       "    <tr>\n",
       "      <th>Burn Rate</th>\n",
       "      <td>0.737556</td>\n",
       "      <td>0.856278</td>\n",
       "      <td>0.944546</td>\n",
       "      <td>1.000000</td>\n",
       "      <td>0.001358</td>\n",
       "      <td>0.154895</td>\n",
       "      <td>0.004281</td>\n",
       "      <td>-0.306266</td>\n",
       "    </tr>\n",
       "    <tr>\n",
       "      <th>working_days</th>\n",
       "      <td>0.000930</td>\n",
       "      <td>0.000474</td>\n",
       "      <td>-0.002417</td>\n",
       "      <td>0.001358</td>\n",
       "      <td>1.000000</td>\n",
       "      <td>0.000093</td>\n",
       "      <td>0.000237</td>\n",
       "      <td>0.004144</td>\n",
       "    </tr>\n",
       "    <tr>\n",
       "      <th>Gender_Classes</th>\n",
       "      <td>0.113295</td>\n",
       "      <td>0.143228</td>\n",
       "      <td>0.145665</td>\n",
       "      <td>0.154895</td>\n",
       "      <td>0.000093</td>\n",
       "      <td>1.000000</td>\n",
       "      <td>-0.009789</td>\n",
       "      <td>-0.073296</td>\n",
       "    </tr>\n",
       "    <tr>\n",
       "      <th>CompanyType_Classes</th>\n",
       "      <td>0.006095</td>\n",
       "      <td>0.005844</td>\n",
       "      <td>0.002661</td>\n",
       "      <td>0.004281</td>\n",
       "      <td>0.000237</td>\n",
       "      <td>-0.009789</td>\n",
       "      <td>1.000000</td>\n",
       "      <td>0.005725</td>\n",
       "    </tr>\n",
       "    <tr>\n",
       "      <th>WFHSetupAvailable_Classes</th>\n",
       "      <td>-0.229720</td>\n",
       "      <td>-0.285085</td>\n",
       "      <td>-0.276580</td>\n",
       "      <td>-0.306266</td>\n",
       "      <td>0.004144</td>\n",
       "      <td>-0.073296</td>\n",
       "      <td>0.005725</td>\n",
       "      <td>1.000000</td>\n",
       "    </tr>\n",
       "  </tbody>\n",
       "</table>\n",
       "</div>"
      ],
      "text/plain": [
       "                           Designation  Resource Allocation  \\\n",
       "Designation                   1.000000             0.878459   \n",
       "Resource Allocation           0.878459             1.000000   \n",
       "Mental Fatigue Score          0.690983             0.799662   \n",
       "Burn Rate                     0.737556             0.856278   \n",
       "working_days                  0.000930             0.000474   \n",
       "Gender_Classes                0.113295             0.143228   \n",
       "CompanyType_Classes           0.006095             0.005844   \n",
       "WFHSetupAvailable_Classes    -0.229720            -0.285085   \n",
       "\n",
       "                           Mental Fatigue Score  Burn Rate  working_days  \\\n",
       "Designation                            0.690983   0.737556      0.000930   \n",
       "Resource Allocation                    0.799662   0.856278      0.000474   \n",
       "Mental Fatigue Score                   1.000000   0.944546     -0.002417   \n",
       "Burn Rate                              0.944546   1.000000      0.001358   \n",
       "working_days                          -0.002417   0.001358      1.000000   \n",
       "Gender_Classes                         0.145665   0.154895      0.000093   \n",
       "CompanyType_Classes                    0.002661   0.004281      0.000237   \n",
       "WFHSetupAvailable_Classes             -0.276580  -0.306266      0.004144   \n",
       "\n",
       "                           Gender_Classes  CompanyType_Classes  \\\n",
       "Designation                      0.113295             0.006095   \n",
       "Resource Allocation              0.143228             0.005844   \n",
       "Mental Fatigue Score             0.145665             0.002661   \n",
       "Burn Rate                        0.154895             0.004281   \n",
       "working_days                     0.000093             0.000237   \n",
       "Gender_Classes                   1.000000            -0.009789   \n",
       "CompanyType_Classes             -0.009789             1.000000   \n",
       "WFHSetupAvailable_Classes       -0.073296             0.005725   \n",
       "\n",
       "                           WFHSetupAvailable_Classes  \n",
       "Designation                                -0.229720  \n",
       "Resource Allocation                        -0.285085  \n",
       "Mental Fatigue Score                       -0.276580  \n",
       "Burn Rate                                  -0.306266  \n",
       "working_days                                0.004144  \n",
       "Gender_Classes                             -0.073296  \n",
       "CompanyType_Classes                         0.005725  \n",
       "WFHSetupAvailable_Classes                   1.000000  "
      ]
     },
     "execution_count": 69,
     "metadata": {},
     "output_type": "execute_result"
    }
   ],
   "source": [
    "df.corr()"
   ]
  },
  {
   "cell_type": "code",
   "execution_count": 70,
   "metadata": {},
   "outputs": [
    {
     "name": "stdout",
     "output_type": "stream",
     "text": [
      "<class 'pandas.core.frame.DataFrame'>\n",
      "RangeIndex: 22750 entries, 0 to 22749\n",
      "Data columns (total 8 columns):\n",
      " #   Column                     Non-Null Count  Dtype  \n",
      "---  ------                     --------------  -----  \n",
      " 0   Designation                22750 non-null  float64\n",
      " 1   Resource Allocation        21369 non-null  float64\n",
      " 2   Mental Fatigue Score       20633 non-null  float64\n",
      " 3   Burn Rate                  21626 non-null  float64\n",
      " 4   working_days               22750 non-null  int64  \n",
      " 5   Gender_Classes             22750 non-null  int32  \n",
      " 6   CompanyType_Classes        22750 non-null  int32  \n",
      " 7   WFHSetupAvailable_Classes  22750 non-null  int32  \n",
      "dtypes: float64(4), int32(3), int64(1)\n",
      "memory usage: 1.1 MB\n"
     ]
    }
   ],
   "source": [
    "df.info()"
   ]
  },
  {
   "cell_type": "code",
   "execution_count": 71,
   "metadata": {},
   "outputs": [
    {
     "data": {
      "text/plain": [
       "Index(['Designation', 'Resource Allocation', 'Mental Fatigue Score',\n",
       "       'Burn Rate', 'working_days', 'Gender_Classes', 'CompanyType_Classes',\n",
       "       'WFHSetupAvailable_Classes'],\n",
       "      dtype='object')"
      ]
     },
     "execution_count": 71,
     "metadata": {},
     "output_type": "execute_result"
    }
   ],
   "source": [
    "df.columns"
   ]
  },
  {
   "cell_type": "code",
   "execution_count": 72,
   "metadata": {},
   "outputs": [],
   "source": [
    "cols = ['Resource Allocation','Mental Fatigue Score','Burn Rate']\n",
    "for col in cols:\n",
    "    mn_value = df[col].mean()\n",
    "    df[df[col].isna()] = mn_value\n",
    "    "
   ]
  },
  {
   "cell_type": "code",
   "execution_count": 73,
   "metadata": {},
   "outputs": [
    {
     "name": "stdout",
     "output_type": "stream",
     "text": [
      "<class 'pandas.core.frame.DataFrame'>\n",
      "RangeIndex: 22750 entries, 0 to 22749\n",
      "Data columns (total 8 columns):\n",
      " #   Column                     Non-Null Count  Dtype  \n",
      "---  ------                     --------------  -----  \n",
      " 0   Designation                22750 non-null  float64\n",
      " 1   Resource Allocation        22750 non-null  float64\n",
      " 2   Mental Fatigue Score       22750 non-null  float64\n",
      " 3   Burn Rate                  22750 non-null  float64\n",
      " 4   working_days               22750 non-null  float64\n",
      " 5   Gender_Classes             22750 non-null  float64\n",
      " 6   CompanyType_Classes        22750 non-null  float64\n",
      " 7   WFHSetupAvailable_Classes  22750 non-null  float64\n",
      "dtypes: float64(8)\n",
      "memory usage: 1.4 MB\n"
     ]
    }
   ],
   "source": [
    "df.info()"
   ]
  },
  {
   "cell_type": "code",
   "execution_count": 74,
   "metadata": {},
   "outputs": [
    {
     "data": {
      "text/plain": [
       "Index(['Designation', 'Resource Allocation', 'Mental Fatigue Score',\n",
       "       'Burn Rate', 'working_days', 'Gender_Classes', 'CompanyType_Classes',\n",
       "       'WFHSetupAvailable_Classes'],\n",
       "      dtype='object')"
      ]
     },
     "execution_count": 74,
     "metadata": {},
     "output_type": "execute_result"
    }
   ],
   "source": [
    "df.columns"
   ]
  },
  {
   "cell_type": "code",
   "execution_count": 76,
   "metadata": {},
   "outputs": [
    {
     "name": "stdout",
     "output_type": "stream",
     "text": [
      "<class 'pandas.core.frame.DataFrame'>\n",
      "RangeIndex: 22750 entries, 0 to 22749\n",
      "Data columns (total 8 columns):\n",
      " #   Column                     Non-Null Count  Dtype  \n",
      "---  ------                     --------------  -----  \n",
      " 0   Designation                22750 non-null  float64\n",
      " 1   Resource Allocation        22750 non-null  float64\n",
      " 2   Mental Fatigue Score       22750 non-null  float64\n",
      " 3   Burn Rate                  22750 non-null  float64\n",
      " 4   working_days               22750 non-null  float64\n",
      " 5   Gender_Classes             22750 non-null  float64\n",
      " 6   CompanyType_Classes        22750 non-null  float64\n",
      " 7   WFHSetupAvailable_Classes  22750 non-null  float64\n",
      "dtypes: float64(8)\n",
      "memory usage: 1.4 MB\n"
     ]
    }
   ],
   "source": [
    "df.info()"
   ]
  },
  {
   "cell_type": "code",
   "execution_count": 77,
   "metadata": {},
   "outputs": [],
   "source": [
    "y = df['Burn Rate']"
   ]
  },
  {
   "cell_type": "code",
   "execution_count": 92,
   "metadata": {},
   "outputs": [],
   "source": [
    "X = df[['Designation', 'Resource Allocation', 'Mental Fatigue Score','working_days', 'Gender_Classes', 'CompanyType_Classes',\n",
    "       'WFHSetupAvailable_Classes']]\n",
    "        "
   ]
  },
  {
   "cell_type": "code",
   "execution_count": 93,
   "metadata": {},
   "outputs": [],
   "source": [
    "from sklearn.model_selection import train_test_split"
   ]
  },
  {
   "cell_type": "code",
   "execution_count": 94,
   "metadata": {},
   "outputs": [],
   "source": [
    "X_train, X_test, y_train, y_test = train_test_split(X, y, test_size=0.1, random_state=42)"
   ]
  },
  {
   "cell_type": "code",
   "execution_count": 95,
   "metadata": {},
   "outputs": [],
   "source": [
    "from sklearn.linear_model import LinearRegression"
   ]
  },
  {
   "cell_type": "code",
   "execution_count": 96,
   "metadata": {},
   "outputs": [],
   "source": [
    "reg = LinearRegression()"
   ]
  },
  {
   "cell_type": "code",
   "execution_count": 97,
   "metadata": {},
   "outputs": [
    {
     "data": {
      "text/plain": [
       "LinearRegression()"
      ]
     },
     "execution_count": 97,
     "metadata": {},
     "output_type": "execute_result"
    }
   ],
   "source": [
    "reg.fit(X,y)"
   ]
  },
  {
   "cell_type": "code",
   "execution_count": 104,
   "metadata": {},
   "outputs": [],
   "source": [
    "test_df = pd.read_csv('dataset/test.csv')"
   ]
  },
  {
   "cell_type": "code",
   "execution_count": 105,
   "metadata": {},
   "outputs": [
    {
     "data": {
      "text/html": [
       "<div>\n",
       "<style scoped>\n",
       "    .dataframe tbody tr th:only-of-type {\n",
       "        vertical-align: middle;\n",
       "    }\n",
       "\n",
       "    .dataframe tbody tr th {\n",
       "        vertical-align: top;\n",
       "    }\n",
       "\n",
       "    .dataframe thead th {\n",
       "        text-align: right;\n",
       "    }\n",
       "</style>\n",
       "<table border=\"1\" class=\"dataframe\">\n",
       "  <thead>\n",
       "    <tr style=\"text-align: right;\">\n",
       "      <th></th>\n",
       "      <th>Employee ID</th>\n",
       "      <th>Date of Joining</th>\n",
       "      <th>Gender</th>\n",
       "      <th>Company Type</th>\n",
       "      <th>WFH Setup Available</th>\n",
       "      <th>Designation</th>\n",
       "      <th>Resource Allocation</th>\n",
       "      <th>Mental Fatigue Score</th>\n",
       "    </tr>\n",
       "  </thead>\n",
       "  <tbody>\n",
       "    <tr>\n",
       "      <th>0</th>\n",
       "      <td>fffe31003300390039003000</td>\n",
       "      <td>2008-12-10</td>\n",
       "      <td>Female</td>\n",
       "      <td>Service</td>\n",
       "      <td>No</td>\n",
       "      <td>2.0</td>\n",
       "      <td>5.0</td>\n",
       "      <td>7.7</td>\n",
       "    </tr>\n",
       "    <tr>\n",
       "      <th>1</th>\n",
       "      <td>fffe31003300310037003800</td>\n",
       "      <td>2008-08-14</td>\n",
       "      <td>Female</td>\n",
       "      <td>Product</td>\n",
       "      <td>Yes</td>\n",
       "      <td>1.0</td>\n",
       "      <td>2.0</td>\n",
       "      <td>5.2</td>\n",
       "    </tr>\n",
       "    <tr>\n",
       "      <th>2</th>\n",
       "      <td>fffe33003400380035003900</td>\n",
       "      <td>2008-11-13</td>\n",
       "      <td>Male</td>\n",
       "      <td>Product</td>\n",
       "      <td>Yes</td>\n",
       "      <td>1.0</td>\n",
       "      <td>3.0</td>\n",
       "      <td>5.9</td>\n",
       "    </tr>\n",
       "    <tr>\n",
       "      <th>3</th>\n",
       "      <td>fffe3100370039003200</td>\n",
       "      <td>2008-02-07</td>\n",
       "      <td>Female</td>\n",
       "      <td>Service</td>\n",
       "      <td>No</td>\n",
       "      <td>3.0</td>\n",
       "      <td>6.0</td>\n",
       "      <td>4.6</td>\n",
       "    </tr>\n",
       "    <tr>\n",
       "      <th>4</th>\n",
       "      <td>fffe32003600390036003700</td>\n",
       "      <td>2008-07-17</td>\n",
       "      <td>Female</td>\n",
       "      <td>Product</td>\n",
       "      <td>No</td>\n",
       "      <td>2.0</td>\n",
       "      <td>5.0</td>\n",
       "      <td>6.4</td>\n",
       "    </tr>\n",
       "  </tbody>\n",
       "</table>\n",
       "</div>"
      ],
      "text/plain": [
       "                Employee ID Date of Joining  Gender Company Type  \\\n",
       "0  fffe31003300390039003000      2008-12-10  Female      Service   \n",
       "1  fffe31003300310037003800      2008-08-14  Female      Product   \n",
       "2  fffe33003400380035003900      2008-11-13    Male      Product   \n",
       "3      fffe3100370039003200      2008-02-07  Female      Service   \n",
       "4  fffe32003600390036003700      2008-07-17  Female      Product   \n",
       "\n",
       "  WFH Setup Available  Designation  Resource Allocation  Mental Fatigue Score  \n",
       "0                  No          2.0                  5.0                   7.7  \n",
       "1                 Yes          1.0                  2.0                   5.2  \n",
       "2                 Yes          1.0                  3.0                   5.9  \n",
       "3                  No          3.0                  6.0                   4.6  \n",
       "4                  No          2.0                  5.0                   6.4  "
      ]
     },
     "execution_count": 105,
     "metadata": {},
     "output_type": "execute_result"
    }
   ],
   "source": [
    "test_df.head()"
   ]
  },
  {
   "cell_type": "code",
   "execution_count": 106,
   "metadata": {},
   "outputs": [],
   "source": [
    "test_df.drop(columns=['Employee ID'],inplace=True)\n",
    "working_days = []\n",
    "dates = (survey_date -  pd.to_datetime(test_df['Date of Joining']).dt.date)\n",
    "len(dates)\n",
    "for i in dates:\n",
    "    working_days.append(i.days)\n",
    "test_df['working_days'] = working_days\n",
    "test_df.drop(columns=['Date of Joining'],inplace=True)\n",
    "test_df['Gender_Classes'] = lg_o.transform(test_df['Gender'])\n",
    "test_df['CompanyType_Classes'] = lct_o.transform(test_df['Company Type'])\n",
    "test_df['WFHSetupAvailable_Classes'] = lwsa_o.transform(test_df['WFH Setup Available'])\n",
    "test_df.drop(columns = ['Gender','Company Type','WFH Setup Available'],inplace=True)\n",
    "cols = ['Resource Allocation','Mental Fatigue Score']\n",
    "for col in cols:\n",
    "    mn_value = test_df[col].mean()\n",
    "    test_df[test_df[col].isna()] = mn_value\n",
    "    "
   ]
  },
  {
   "cell_type": "code",
   "execution_count": 107,
   "metadata": {},
   "outputs": [
    {
     "name": "stdout",
     "output_type": "stream",
     "text": [
      "<class 'pandas.core.frame.DataFrame'>\n",
      "RangeIndex: 12250 entries, 0 to 12249\n",
      "Data columns (total 7 columns):\n",
      " #   Column                     Non-Null Count  Dtype  \n",
      "---  ------                     --------------  -----  \n",
      " 0   Designation                12250 non-null  float64\n",
      " 1   Resource Allocation        12250 non-null  float64\n",
      " 2   Mental Fatigue Score       12250 non-null  float64\n",
      " 3   working_days               12250 non-null  float64\n",
      " 4   Gender_Classes             12250 non-null  float64\n",
      " 5   CompanyType_Classes        12250 non-null  float64\n",
      " 6   WFHSetupAvailable_Classes  12250 non-null  float64\n",
      "dtypes: float64(7)\n",
      "memory usage: 670.0 KB\n"
     ]
    }
   ],
   "source": [
    "test_df.info()"
   ]
  },
  {
   "cell_type": "code",
   "execution_count": 108,
   "metadata": {},
   "outputs": [],
   "source": [
    "y_pred = reg.predict(test_df)"
   ]
  },
  {
   "cell_type": "code",
   "execution_count": 109,
   "metadata": {},
   "outputs": [
    {
     "data": {
      "text/plain": [
       "array([ 0.49902945,  0.17114422,  0.5682684 , ...,  0.87241846,\n",
       "        0.59113464, -0.17415355])"
      ]
     },
     "execution_count": 109,
     "metadata": {},
     "output_type": "execute_result"
    }
   ],
   "source": [
    "y_pred"
   ]
  },
  {
   "cell_type": "code",
   "execution_count": 111,
   "metadata": {},
   "outputs": [],
   "source": [
    "tets_data_eid = pd.read_csv('dataset/test.csv')['Employee ID']"
   ]
  },
  {
   "cell_type": "code",
   "execution_count": 112,
   "metadata": {},
   "outputs": [],
   "source": [
    "output=pd.DataFrame(list(zip(tets_data_eid,y_pred)),columns=['Employee ID','Burn Rate'])"
   ]
  },
  {
   "cell_type": "code",
   "execution_count": 113,
   "metadata": {},
   "outputs": [],
   "source": [
    "output.to_csv('output.csv',index=False)"
   ]
  },
  {
   "cell_type": "code",
   "execution_count": null,
   "metadata": {},
   "outputs": [],
   "source": []
  }
 ],
 "metadata": {
  "kernelspec": {
   "display_name": "Python 3",
   "language": "python",
   "name": "python3"
  },
  "language_info": {
   "codemirror_mode": {
    "name": "ipython",
    "version": 3
   },
   "file_extension": ".py",
   "mimetype": "text/x-python",
   "name": "python",
   "nbconvert_exporter": "python",
   "pygments_lexer": "ipython3",
   "version": "3.8.5"
  }
 },
 "nbformat": 4,
 "nbformat_minor": 4
}
